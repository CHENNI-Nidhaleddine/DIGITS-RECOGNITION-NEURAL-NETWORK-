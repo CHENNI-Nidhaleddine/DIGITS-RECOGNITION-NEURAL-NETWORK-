{
 "cells": [
  {
   "cell_type": "markdown",
   "id": "2175bbdc",
   "metadata": {},
   "source": [
    "# Digits recongnition neural network using mnist dataset\n"
   ]
  },
  {
   "cell_type": "code",
   "execution_count": 183,
   "id": "6410bec7",
   "metadata": {},
   "outputs": [],
   "source": [
    "import numpy as np\n",
    "import matplotlib.pyplot as plt\n",
    "import scipy.special as sc"
   ]
  },
  {
   "cell_type": "code",
   "execution_count": 184,
   "id": "f1bc5c19",
   "metadata": {},
   "outputs": [],
   "source": [
    "class NeuralNetwork:\n",
    "    def __init__(self,inputnodes,hiddennodes,outputnodes,learningrate):\n",
    "        self.inodes=inputnodes\n",
    "        self.hnodes=hiddennodes\n",
    "        self.onodes=outputnodes\n",
    "        self.lr=learningrate\n",
    "#         self.wih=np.random.rand(self.hnodes,self.inodes)-0.5\n",
    "        self.wih=np.random.normal(0.0,pow(self.hnodes,-0.5),(self.hnodes,self.inodes))\n",
    "#         self.who=np.random.rand(self.onodes,self.hnodes)-0.5\n",
    "        self.who=np.random.normal(0.0,pow(self.onodes,-0.5),(self.onodes,self.hnodes))\n",
    "        self.activation_function=lambda x:sc.expit(x)\n",
    "        pass\n",
    "    def train(self,inputs_list,targets_list):\n",
    "        inputs=np.array(inputs_list,ndmin=2).T\n",
    "        targets=np.array(targets_list,ndmin=2).T\n",
    "        \n",
    "        \n",
    "        hidden_inputs=np.dot(self.wih.astype(float),inputs.astype(float))\n",
    "        hidden_outputs=self.activation_function(hidden_inputs)\n",
    "        \n",
    "        final_inputs=np.dot(self.who,hidden_outputs)\n",
    "        final_outputs=self.activation_function(final_inputs)\n",
    "        \n",
    "        outputs_errors=targets-final_outputs\n",
    "        \n",
    "        hidden_errors=np.dot(self.who.T,outputs_errors)\n",
    "        \n",
    "        self.who+=self.lr*np.dot((outputs_errors*final_outputs*(1-final_outputs)),np.transpose(hidden_outputs))\n",
    "        self.wih+=self.lr*np.dot(((hidden_errors*hidden_outputs)*(1.0-hidden_outputs)),np.transpose(inputs))\n",
    "\n",
    "        pass\n",
    "    def query(self,inputs_list):\n",
    "        inputs=np.array(inputs_list,ndmin=2).T\n",
    "        hidden_inputs=np.dot(self.wih,inputs)\n",
    "        hidden_outputs=self.activation_function(hidden_inputs)\n",
    "        final_inputs=np.dot(self.who,hidden_outputs)\n",
    "        final_outputs=self.activation_function(final_inputs)\n",
    "        return final_outputs\n",
    "\n",
    "# other functions\n",
    "def showImage(inputs):\n",
    "    inputs=inputs.split(\",\")\n",
    "    print(\"value is: \"+inputs[0])\n",
    "    image_matrix=np.asfarray(inputs[1:]).reshape(28,28)\n",
    "    plt.imshow(image_matrix,cmap=\"Greys\")"
   ]
  },
  {
   "cell_type": "markdown",
   "id": "7ad43f4a",
   "metadata": {},
   "source": [
    "## Neural Network initialisation"
   ]
  },
  {
   "cell_type": "code",
   "execution_count": 185,
   "id": "d1a7bf77",
   "metadata": {},
   "outputs": [],
   "source": [
    "input_nodes=784\n",
    "hidden_nodes=200\n",
    "output_nodes=10\n",
    "learning_rate=0.1\n",
    "n=NeuralNetwork(input_nodes,hidden_nodes,output_nodes,learning_rate)"
   ]
  },
  {
   "cell_type": "markdown",
   "id": "af0e62bc",
   "metadata": {},
   "source": [
    "## Training phase"
   ]
  },
  {
   "cell_type": "code",
   "execution_count": 186,
   "id": "07a94c93",
   "metadata": {},
   "outputs": [
    {
     "name": "stdout",
     "output_type": "stream",
     "text": [
      "value is: 5\n"
     ]
    },
    {
     "data": {
      "image/png": "[encoded data removed]",
      "text/plain": [
       "<Figure size 432x288 with 1 Axes>"
      ]
     },
     "metadata": {
      "needs_background": "light"
     },
     "output_type": "display_data"
    }
   ],
   "source": [
    "data_file=open(\"mnist-dataset/mnist_train.csv\",\"r\")\n",
    "train_data=data_file.readlines()\n",
    "data_file.close()\n",
    "showImage(train_data[0])"
   ]
  },
  {
   "cell_type": "code",
   "execution_count": 187,
   "id": "9384b566",
   "metadata": {},
   "outputs": [],
   "source": [
    "for record in train_data:\n",
    "    values=record.split(\",\")\n",
    "    scaled_input=((np.asfarray(values[1:])/255 )*0.99) +0.01\n",
    "    target=np.zeros(output_nodes)+0.01\n",
    "    target[int(values[0])]=0.99\n",
    "    n.train(scaled_input,target)\n",
    "    pass"
   ]
  },
  {
   "cell_type": "markdown",
   "id": "871b2eb0",
   "metadata": {},
   "source": [
    "## Testing Phase"
   ]
  },
  {
   "cell_type": "code",
   "execution_count": 188,
   "id": "81aac900",
   "metadata": {},
   "outputs": [
    {
     "name": "stdout",
     "output_type": "stream",
     "text": [
      "value is: 7\n"
     ]
    },
    {
     "data": {
      "image/png": "[encoded data removed]",
      "text/plain": [
       "<Figure size 432x288 with 1 Axes>"
      ]
     },
     "metadata": {
      "needs_background": "light"
     },
     "output_type": "display_data"
    }
   ],
   "source": [
    "data_file2=open(\"mnist-dataset/mnist_test.csv\")\n",
    "test_data=data_file2.readlines()\n",
    "data_file2.close()\n",
    "showImage(test_data[0])"
   ]
  },
  {
   "cell_type": "code",
   "execution_count": 189,
   "id": "a9a744ec",
   "metadata": {},
   "outputs": [
    {
     "name": "stdout",
     "output_type": "stream",
     "text": [
      "accuracy: 95.91%\n"
     ]
    }
   ],
   "source": [
    "scoreboard=[]\n",
    "for record in test_data:\n",
    "    values=record.split(',')\n",
    "    correct_answer=values[0]\n",
    "    scaled_input=np.asfarray(values[1:])/255 * 0.99 +0.01\n",
    "    result=n.query(scaled_input)\n",
    "    predicted_answer=np.argmax(result)\n",
    "    if(predicted_answer==int(correct_answer)):\n",
    "        scoreboard.append(1)\n",
    "    else:\n",
    "        scoreboard.append(0)\n",
    "    pass\n",
    "print(\"accuracy: \"+str(np.asarray(scoreboard).sum()/np.asarray(scoreboard).size*100 )+ \"%\")"
   ]
  },
  {
   "cell_type": "markdown",
   "id": "2ba8ffc5",
   "metadata": {},
   "source": [
    "## Test it yourself"
   ]
  },
  {
   "cell_type": "code",
   "execution_count": 190,
   "id": "77d65ae2",
   "metadata": {},
   "outputs": [],
   "source": [
    "from PIL import ImageTk, Image, ImageDraw,ImageOps\n",
    "import PIL.Image\n",
    "from tkinter import *"
   ]
  },
  {
   "cell_type": "code",
   "execution_count": 193,
   "id": "1f8c3717",
   "metadata": {},
   "outputs": [],
   "source": [
    "width =200  # canvas width\n",
    "height = 200 # canvas height\n",
    "center = height//2\n",
    "white = (255, 255, 255) # canvas back\n",
    "def save():\n",
    "    # save image to hard drive\n",
    "    filename = \"test.png\"\n",
    "    output_image.save(filename)\n",
    "def paint(event):\n",
    "    x1, y1 = (event.x - 1), (event.y - 1)\n",
    "    x2, y2 = (event.x + 1), (event.y + 1)\n",
    "    canvas.create_oval(x1, y1, x2, y2, fill=\"black\",width=5)\n",
    "    draw.line([x1, y1, x2, y2],fill=\"black\",width=5)\n",
    "\n",
    "master = Tk()\n",
    "\n",
    "# create a tkinter canvas to draw on\n",
    "canvas = Canvas(master, width=width, height=height, bg='white')\n",
    "canvas.pack()\n",
    "\n",
    "# create an empty PIL image and draw object to draw on\n",
    "output_image = PIL.Image.new(\"RGB\", (width, height), white)\n",
    "draw = ImageDraw.Draw(output_image)\n",
    "canvas.pack(expand=YES, fill=BOTH)\n",
    "canvas.bind(\"<B1-Motion>\", paint)\n",
    "\n",
    "# add a button to save the image\n",
    "button=Button(text=\"save\",command=save)\n",
    "button.pack()\n",
    "\n",
    "master.mainloop()"
   ]
  },
  {
   "cell_type": "code",
   "execution_count": 194,
   "id": "6f3b8289",
   "metadata": {},
   "outputs": [
    {
     "name": "stdout",
     "output_type": "stream",
     "text": [
      "predicted digit is : 2\n"
     ]
    },
    {
     "data": {
      "image/png": "[encoded data removed]",
      "text/plain": [
       "<Figure size 432x288 with 1 Axes>"
      ]
     },
     "metadata": {
      "needs_background": "light"
     },
     "output_type": "display_data"
    }
   ],
   "source": [
    "img=PIL.Image.open(\"test.png\")\n",
    "img=ImageOps.grayscale(img)\n",
    "img = img.resize((28,28))\n",
    "img=img.convert('L')\n",
    "plt.imshow(img)\n",
    "img=np.asfarray(img).reshape(784)\n",
    "scaled_input2=(np.abs(255-img))/255 * 0.99 +0.01\n",
    "result=n.query(scaled_input2)\n",
    "predicted_answer=np.argmax(result)\n",
    "print(\"predicted digit is : \"+str(predicted_answer))"
   ]
  },
  {
   "cell_type": "code",
   "execution_count": null,
   "id": "e909dfaa",
   "metadata": {},
   "outputs": [],
   "source": []
  }
 ],
 "metadata": {
  "kernelspec": {
   "display_name": "Python 3",
   "language": "python",
   "name": "python3"
  },
  "language_info": {
   "codemirror_mode": {
    "name": "ipython",
    "version": 3
   },
   "file_extension": ".py",
   "mimetype": "text/x-python",
   "name": "python",
   "nbconvert_exporter": "python",
   "pygments_lexer": "ipython3",
   "version": "3.8.8"
  }
 },
 "nbformat": 4,
 "nbformat_minor": 5
}
